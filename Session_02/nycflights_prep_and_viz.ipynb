{
 "cells": [
  {
   "cell_type": "markdown",
   "id": "bcde58c7",
   "metadata": {},
   "source": [
    "# Data Science for Business - Exploring Flight Delays in NYC\n"
   ]
  },
  {
   "cell_type": "code",
   "execution_count": 80,
   "id": "21d1c86d",
   "metadata": {},
   "outputs": [],
   "source": [
    "import pandas as pd\n",
    "import numpy as np\n",
    "import seaborn as sns\n",
    "import matplotlib.pyplot as plt\n"
   ]
  },
  {
   "cell_type": "markdown",
   "id": "49538770",
   "metadata": {},
   "source": [
    "## Case Description\n",
    "\n",
    "### Flight Delays\n",
    "\n",
    "Flight delays are a common problem in the airline industry. They can be caused by a variety of factors, such as weather, air traffic control, and mechanical issues. Delays can be frustrating for passengers and costly for airlines. In this case study, we will work with a dataset containing flight delay data for all flights departing NYC in 2013. Besides delays, the dataset also includes useful meta-data on airlines, airports, weather, and planes. [More...](https://cran.r-project.org/web/packages/nycflights13/nycflights13.pdf).\n",
    "\n",
    "The dataset structure is illustrated in the following diagram:\n",
    "\n",
    "![Dataset Structure](nycflights13.png)\n"
   ]
  },
  {
   "cell_type": "markdown",
   "id": "d2479550",
   "metadata": {},
   "source": [
    "## Load Data\n",
    "\n",
    "Let's start by loading the `flights` table, taking a look at the first few rows, and displaying the dimensions of the table."
   ]
  },
  {
   "cell_type": "code",
   "execution_count": 57,
   "id": "6623341c",
   "metadata": {},
   "outputs": [],
   "source": [
    "flights = pd.read_csv('flights.csv')"
   ]
  },
  {
   "cell_type": "code",
   "execution_count": 58,
   "id": "98fd05a5",
   "metadata": {},
   "outputs": [
    {
     "data": {
      "text/html": [
       "<div>\n",
       "<style scoped>\n",
       "    .dataframe tbody tr th:only-of-type {\n",
       "        vertical-align: middle;\n",
       "    }\n",
       "\n",
       "    .dataframe tbody tr th {\n",
       "        vertical-align: top;\n",
       "    }\n",
       "\n",
       "    .dataframe thead th {\n",
       "        text-align: right;\n",
       "    }\n",
       "</style>\n",
       "<table border=\"1\" class=\"dataframe\">\n",
       "  <thead>\n",
       "    <tr style=\"text-align: right;\">\n",
       "      <th></th>\n",
       "      <th>year</th>\n",
       "      <th>month</th>\n",
       "      <th>day</th>\n",
       "      <th>dep_time</th>\n",
       "      <th>sched_dep_time</th>\n",
       "      <th>dep_delay</th>\n",
       "      <th>arr_time</th>\n",
       "      <th>sched_arr_time</th>\n",
       "      <th>arr_delay</th>\n",
       "      <th>carrier</th>\n",
       "      <th>flight</th>\n",
       "      <th>tailnum</th>\n",
       "      <th>origin</th>\n",
       "      <th>dest</th>\n",
       "      <th>air_time</th>\n",
       "      <th>distance</th>\n",
       "      <th>hour</th>\n",
       "      <th>minute</th>\n",
       "      <th>time_hour</th>\n",
       "    </tr>\n",
       "  </thead>\n",
       "  <tbody>\n",
       "    <tr>\n",
       "      <th>0</th>\n",
       "      <td>2013</td>\n",
       "      <td>1</td>\n",
       "      <td>1</td>\n",
       "      <td>517.0</td>\n",
       "      <td>515</td>\n",
       "      <td>2.0</td>\n",
       "      <td>830.0</td>\n",
       "      <td>819</td>\n",
       "      <td>11.0</td>\n",
       "      <td>UA</td>\n",
       "      <td>1545</td>\n",
       "      <td>N14228</td>\n",
       "      <td>EWR</td>\n",
       "      <td>IAH</td>\n",
       "      <td>227.0</td>\n",
       "      <td>1400</td>\n",
       "      <td>5</td>\n",
       "      <td>15</td>\n",
       "      <td>2013-01-01T10:00:00Z</td>\n",
       "    </tr>\n",
       "    <tr>\n",
       "      <th>1</th>\n",
       "      <td>2013</td>\n",
       "      <td>1</td>\n",
       "      <td>1</td>\n",
       "      <td>533.0</td>\n",
       "      <td>529</td>\n",
       "      <td>4.0</td>\n",
       "      <td>850.0</td>\n",
       "      <td>830</td>\n",
       "      <td>20.0</td>\n",
       "      <td>UA</td>\n",
       "      <td>1714</td>\n",
       "      <td>N24211</td>\n",
       "      <td>LGA</td>\n",
       "      <td>IAH</td>\n",
       "      <td>227.0</td>\n",
       "      <td>1416</td>\n",
       "      <td>5</td>\n",
       "      <td>29</td>\n",
       "      <td>2013-01-01T10:00:00Z</td>\n",
       "    </tr>\n",
       "    <tr>\n",
       "      <th>2</th>\n",
       "      <td>2013</td>\n",
       "      <td>1</td>\n",
       "      <td>1</td>\n",
       "      <td>542.0</td>\n",
       "      <td>540</td>\n",
       "      <td>2.0</td>\n",
       "      <td>923.0</td>\n",
       "      <td>850</td>\n",
       "      <td>33.0</td>\n",
       "      <td>AA</td>\n",
       "      <td>1141</td>\n",
       "      <td>N619AA</td>\n",
       "      <td>JFK</td>\n",
       "      <td>MIA</td>\n",
       "      <td>160.0</td>\n",
       "      <td>1089</td>\n",
       "      <td>5</td>\n",
       "      <td>40</td>\n",
       "      <td>2013-01-01T10:00:00Z</td>\n",
       "    </tr>\n",
       "    <tr>\n",
       "      <th>3</th>\n",
       "      <td>2013</td>\n",
       "      <td>1</td>\n",
       "      <td>1</td>\n",
       "      <td>544.0</td>\n",
       "      <td>545</td>\n",
       "      <td>-1.0</td>\n",
       "      <td>1004.0</td>\n",
       "      <td>1022</td>\n",
       "      <td>-18.0</td>\n",
       "      <td>B6</td>\n",
       "      <td>725</td>\n",
       "      <td>N804JB</td>\n",
       "      <td>JFK</td>\n",
       "      <td>BQN</td>\n",
       "      <td>183.0</td>\n",
       "      <td>1576</td>\n",
       "      <td>5</td>\n",
       "      <td>45</td>\n",
       "      <td>2013-01-01T10:00:00Z</td>\n",
       "    </tr>\n",
       "    <tr>\n",
       "      <th>4</th>\n",
       "      <td>2013</td>\n",
       "      <td>1</td>\n",
       "      <td>1</td>\n",
       "      <td>554.0</td>\n",
       "      <td>600</td>\n",
       "      <td>-6.0</td>\n",
       "      <td>812.0</td>\n",
       "      <td>837</td>\n",
       "      <td>-25.0</td>\n",
       "      <td>DL</td>\n",
       "      <td>461</td>\n",
       "      <td>N668DN</td>\n",
       "      <td>LGA</td>\n",
       "      <td>ATL</td>\n",
       "      <td>116.0</td>\n",
       "      <td>762</td>\n",
       "      <td>6</td>\n",
       "      <td>0</td>\n",
       "      <td>2013-01-01T11:00:00Z</td>\n",
       "    </tr>\n",
       "    <tr>\n",
       "      <th>5</th>\n",
       "      <td>2013</td>\n",
       "      <td>1</td>\n",
       "      <td>1</td>\n",
       "      <td>554.0</td>\n",
       "      <td>558</td>\n",
       "      <td>-4.0</td>\n",
       "      <td>740.0</td>\n",
       "      <td>728</td>\n",
       "      <td>12.0</td>\n",
       "      <td>UA</td>\n",
       "      <td>1696</td>\n",
       "      <td>N39463</td>\n",
       "      <td>EWR</td>\n",
       "      <td>ORD</td>\n",
       "      <td>150.0</td>\n",
       "      <td>719</td>\n",
       "      <td>5</td>\n",
       "      <td>58</td>\n",
       "      <td>2013-01-01T10:00:00Z</td>\n",
       "    </tr>\n",
       "    <tr>\n",
       "      <th>6</th>\n",
       "      <td>2013</td>\n",
       "      <td>1</td>\n",
       "      <td>1</td>\n",
       "      <td>555.0</td>\n",
       "      <td>600</td>\n",
       "      <td>-5.0</td>\n",
       "      <td>913.0</td>\n",
       "      <td>854</td>\n",
       "      <td>19.0</td>\n",
       "      <td>B6</td>\n",
       "      <td>507</td>\n",
       "      <td>N516JB</td>\n",
       "      <td>EWR</td>\n",
       "      <td>FLL</td>\n",
       "      <td>158.0</td>\n",
       "      <td>1065</td>\n",
       "      <td>6</td>\n",
       "      <td>0</td>\n",
       "      <td>2013-01-01T11:00:00Z</td>\n",
       "    </tr>\n",
       "    <tr>\n",
       "      <th>7</th>\n",
       "      <td>2013</td>\n",
       "      <td>1</td>\n",
       "      <td>1</td>\n",
       "      <td>557.0</td>\n",
       "      <td>600</td>\n",
       "      <td>-3.0</td>\n",
       "      <td>709.0</td>\n",
       "      <td>723</td>\n",
       "      <td>-14.0</td>\n",
       "      <td>EV</td>\n",
       "      <td>5708</td>\n",
       "      <td>N829AS</td>\n",
       "      <td>LGA</td>\n",
       "      <td>IAD</td>\n",
       "      <td>53.0</td>\n",
       "      <td>229</td>\n",
       "      <td>6</td>\n",
       "      <td>0</td>\n",
       "      <td>2013-01-01T11:00:00Z</td>\n",
       "    </tr>\n",
       "    <tr>\n",
       "      <th>8</th>\n",
       "      <td>2013</td>\n",
       "      <td>1</td>\n",
       "      <td>1</td>\n",
       "      <td>557.0</td>\n",
       "      <td>600</td>\n",
       "      <td>-3.0</td>\n",
       "      <td>838.0</td>\n",
       "      <td>846</td>\n",
       "      <td>-8.0</td>\n",
       "      <td>B6</td>\n",
       "      <td>79</td>\n",
       "      <td>N593JB</td>\n",
       "      <td>JFK</td>\n",
       "      <td>MCO</td>\n",
       "      <td>140.0</td>\n",
       "      <td>944</td>\n",
       "      <td>6</td>\n",
       "      <td>0</td>\n",
       "      <td>2013-01-01T11:00:00Z</td>\n",
       "    </tr>\n",
       "    <tr>\n",
       "      <th>9</th>\n",
       "      <td>2013</td>\n",
       "      <td>1</td>\n",
       "      <td>1</td>\n",
       "      <td>558.0</td>\n",
       "      <td>600</td>\n",
       "      <td>-2.0</td>\n",
       "      <td>753.0</td>\n",
       "      <td>745</td>\n",
       "      <td>8.0</td>\n",
       "      <td>AA</td>\n",
       "      <td>301</td>\n",
       "      <td>N3ALAA</td>\n",
       "      <td>LGA</td>\n",
       "      <td>ORD</td>\n",
       "      <td>138.0</td>\n",
       "      <td>733</td>\n",
       "      <td>6</td>\n",
       "      <td>0</td>\n",
       "      <td>2013-01-01T11:00:00Z</td>\n",
       "    </tr>\n",
       "  </tbody>\n",
       "</table>\n",
       "</div>"
      ],
      "text/plain": [
       "   year  month  day  dep_time  sched_dep_time  dep_delay  arr_time  \\\n",
       "0  2013      1    1     517.0             515        2.0     830.0   \n",
       "1  2013      1    1     533.0             529        4.0     850.0   \n",
       "2  2013      1    1     542.0             540        2.0     923.0   \n",
       "3  2013      1    1     544.0             545       -1.0    1004.0   \n",
       "4  2013      1    1     554.0             600       -6.0     812.0   \n",
       "5  2013      1    1     554.0             558       -4.0     740.0   \n",
       "6  2013      1    1     555.0             600       -5.0     913.0   \n",
       "7  2013      1    1     557.0             600       -3.0     709.0   \n",
       "8  2013      1    1     557.0             600       -3.0     838.0   \n",
       "9  2013      1    1     558.0             600       -2.0     753.0   \n",
       "\n",
       "   sched_arr_time  arr_delay carrier  flight tailnum origin dest  air_time  \\\n",
       "0             819       11.0      UA    1545  N14228    EWR  IAH     227.0   \n",
       "1             830       20.0      UA    1714  N24211    LGA  IAH     227.0   \n",
       "2             850       33.0      AA    1141  N619AA    JFK  MIA     160.0   \n",
       "3            1022      -18.0      B6     725  N804JB    JFK  BQN     183.0   \n",
       "4             837      -25.0      DL     461  N668DN    LGA  ATL     116.0   \n",
       "5             728       12.0      UA    1696  N39463    EWR  ORD     150.0   \n",
       "6             854       19.0      B6     507  N516JB    EWR  FLL     158.0   \n",
       "7             723      -14.0      EV    5708  N829AS    LGA  IAD      53.0   \n",
       "8             846       -8.0      B6      79  N593JB    JFK  MCO     140.0   \n",
       "9             745        8.0      AA     301  N3ALAA    LGA  ORD     138.0   \n",
       "\n",
       "   distance  hour  minute             time_hour  \n",
       "0      1400     5      15  2013-01-01T10:00:00Z  \n",
       "1      1416     5      29  2013-01-01T10:00:00Z  \n",
       "2      1089     5      40  2013-01-01T10:00:00Z  \n",
       "3      1576     5      45  2013-01-01T10:00:00Z  \n",
       "4       762     6       0  2013-01-01T11:00:00Z  \n",
       "5       719     5      58  2013-01-01T10:00:00Z  \n",
       "6      1065     6       0  2013-01-01T11:00:00Z  \n",
       "7       229     6       0  2013-01-01T11:00:00Z  \n",
       "8       944     6       0  2013-01-01T11:00:00Z  \n",
       "9       733     6       0  2013-01-01T11:00:00Z  "
      ]
     },
     "execution_count": 58,
     "metadata": {},
     "output_type": "execute_result"
    }
   ],
   "source": [
    "flights.head(10)"
   ]
  },
  {
   "cell_type": "code",
   "execution_count": 59,
   "id": "4272e107",
   "metadata": {},
   "outputs": [
    {
     "data": {
      "text/plain": [
       "(336776, 19)"
      ]
     },
     "execution_count": 59,
     "metadata": {},
     "output_type": "execute_result"
    }
   ],
   "source": [
    "flights.shape"
   ]
  },
  {
   "cell_type": "markdown",
   "id": "ea9d83bf",
   "metadata": {},
   "source": [
    "We continue by loading the remaining tables and taking a look at the first few rows of each table."
   ]
  },
  {
   "cell_type": "code",
   "execution_count": 60,
   "id": "5c494f21",
   "metadata": {},
   "outputs": [
    {
     "data": {
      "text/html": [
       "<div>\n",
       "<style scoped>\n",
       "    .dataframe tbody tr th:only-of-type {\n",
       "        vertical-align: middle;\n",
       "    }\n",
       "\n",
       "    .dataframe tbody tr th {\n",
       "        vertical-align: top;\n",
       "    }\n",
       "\n",
       "    .dataframe thead th {\n",
       "        text-align: right;\n",
       "    }\n",
       "</style>\n",
       "<table border=\"1\" class=\"dataframe\">\n",
       "  <thead>\n",
       "    <tr style=\"text-align: right;\">\n",
       "      <th></th>\n",
       "      <th>carrier</th>\n",
       "      <th>name</th>\n",
       "    </tr>\n",
       "  </thead>\n",
       "  <tbody>\n",
       "    <tr>\n",
       "      <th>0</th>\n",
       "      <td>9E</td>\n",
       "      <td>Endeavor Air Inc.</td>\n",
       "    </tr>\n",
       "    <tr>\n",
       "      <th>1</th>\n",
       "      <td>AA</td>\n",
       "      <td>American Airlines Inc.</td>\n",
       "    </tr>\n",
       "    <tr>\n",
       "      <th>2</th>\n",
       "      <td>AS</td>\n",
       "      <td>Alaska Airlines Inc.</td>\n",
       "    </tr>\n",
       "    <tr>\n",
       "      <th>3</th>\n",
       "      <td>B6</td>\n",
       "      <td>JetBlue Airways</td>\n",
       "    </tr>\n",
       "    <tr>\n",
       "      <th>4</th>\n",
       "      <td>DL</td>\n",
       "      <td>Delta Air Lines Inc.</td>\n",
       "    </tr>\n",
       "    <tr>\n",
       "      <th>5</th>\n",
       "      <td>EV</td>\n",
       "      <td>ExpressJet Airlines Inc.</td>\n",
       "    </tr>\n",
       "    <tr>\n",
       "      <th>6</th>\n",
       "      <td>F9</td>\n",
       "      <td>Frontier Airlines Inc.</td>\n",
       "    </tr>\n",
       "    <tr>\n",
       "      <th>7</th>\n",
       "      <td>FL</td>\n",
       "      <td>AirTran Airways Corporation</td>\n",
       "    </tr>\n",
       "    <tr>\n",
       "      <th>8</th>\n",
       "      <td>HA</td>\n",
       "      <td>Hawaiian Airlines Inc.</td>\n",
       "    </tr>\n",
       "    <tr>\n",
       "      <th>9</th>\n",
       "      <td>MQ</td>\n",
       "      <td>Envoy Air</td>\n",
       "    </tr>\n",
       "  </tbody>\n",
       "</table>\n",
       "</div>"
      ],
      "text/plain": [
       "  carrier                         name\n",
       "0      9E            Endeavor Air Inc.\n",
       "1      AA       American Airlines Inc.\n",
       "2      AS         Alaska Airlines Inc.\n",
       "3      B6              JetBlue Airways\n",
       "4      DL         Delta Air Lines Inc.\n",
       "5      EV     ExpressJet Airlines Inc.\n",
       "6      F9       Frontier Airlines Inc.\n",
       "7      FL  AirTran Airways Corporation\n",
       "8      HA       Hawaiian Airlines Inc.\n",
       "9      MQ                    Envoy Air"
      ]
     },
     "execution_count": 60,
     "metadata": {},
     "output_type": "execute_result"
    }
   ],
   "source": [
    "airlines = pd.read_csv('airlines.csv')\n",
    "airlines.head(10)"
   ]
  },
  {
   "cell_type": "code",
   "execution_count": 61,
   "id": "87a16771",
   "metadata": {},
   "outputs": [
    {
     "data": {
      "text/html": [
       "<div>\n",
       "<style scoped>\n",
       "    .dataframe tbody tr th:only-of-type {\n",
       "        vertical-align: middle;\n",
       "    }\n",
       "\n",
       "    .dataframe tbody tr th {\n",
       "        vertical-align: top;\n",
       "    }\n",
       "\n",
       "    .dataframe thead th {\n",
       "        text-align: right;\n",
       "    }\n",
       "</style>\n",
       "<table border=\"1\" class=\"dataframe\">\n",
       "  <thead>\n",
       "    <tr style=\"text-align: right;\">\n",
       "      <th></th>\n",
       "      <th>faa</th>\n",
       "      <th>name</th>\n",
       "      <th>lat</th>\n",
       "      <th>lon</th>\n",
       "      <th>alt</th>\n",
       "      <th>tz</th>\n",
       "      <th>dst</th>\n",
       "      <th>tzone</th>\n",
       "    </tr>\n",
       "  </thead>\n",
       "  <tbody>\n",
       "    <tr>\n",
       "      <th>0</th>\n",
       "      <td>04G</td>\n",
       "      <td>Lansdowne Airport</td>\n",
       "      <td>41.130472</td>\n",
       "      <td>-80.619583</td>\n",
       "      <td>1044</td>\n",
       "      <td>-5</td>\n",
       "      <td>A</td>\n",
       "      <td>America/New_York</td>\n",
       "    </tr>\n",
       "    <tr>\n",
       "      <th>1</th>\n",
       "      <td>06A</td>\n",
       "      <td>Moton Field Municipal Airport</td>\n",
       "      <td>32.460572</td>\n",
       "      <td>-85.680028</td>\n",
       "      <td>264</td>\n",
       "      <td>-6</td>\n",
       "      <td>A</td>\n",
       "      <td>America/Chicago</td>\n",
       "    </tr>\n",
       "    <tr>\n",
       "      <th>2</th>\n",
       "      <td>06C</td>\n",
       "      <td>Schaumburg Regional</td>\n",
       "      <td>41.989341</td>\n",
       "      <td>-88.101243</td>\n",
       "      <td>801</td>\n",
       "      <td>-6</td>\n",
       "      <td>A</td>\n",
       "      <td>America/Chicago</td>\n",
       "    </tr>\n",
       "    <tr>\n",
       "      <th>3</th>\n",
       "      <td>06N</td>\n",
       "      <td>Randall Airport</td>\n",
       "      <td>41.431912</td>\n",
       "      <td>-74.391561</td>\n",
       "      <td>523</td>\n",
       "      <td>-5</td>\n",
       "      <td>A</td>\n",
       "      <td>America/New_York</td>\n",
       "    </tr>\n",
       "    <tr>\n",
       "      <th>4</th>\n",
       "      <td>09J</td>\n",
       "      <td>Jekyll Island Airport</td>\n",
       "      <td>31.074472</td>\n",
       "      <td>-81.427778</td>\n",
       "      <td>11</td>\n",
       "      <td>-5</td>\n",
       "      <td>A</td>\n",
       "      <td>America/New_York</td>\n",
       "    </tr>\n",
       "    <tr>\n",
       "      <th>5</th>\n",
       "      <td>0A9</td>\n",
       "      <td>Elizabethton Municipal Airport</td>\n",
       "      <td>36.371222</td>\n",
       "      <td>-82.173417</td>\n",
       "      <td>1593</td>\n",
       "      <td>-5</td>\n",
       "      <td>A</td>\n",
       "      <td>America/New_York</td>\n",
       "    </tr>\n",
       "    <tr>\n",
       "      <th>6</th>\n",
       "      <td>0G6</td>\n",
       "      <td>Williams County Airport</td>\n",
       "      <td>41.467306</td>\n",
       "      <td>-84.506778</td>\n",
       "      <td>730</td>\n",
       "      <td>-5</td>\n",
       "      <td>A</td>\n",
       "      <td>America/New_York</td>\n",
       "    </tr>\n",
       "    <tr>\n",
       "      <th>7</th>\n",
       "      <td>0G7</td>\n",
       "      <td>Finger Lakes Regional Airport</td>\n",
       "      <td>42.883565</td>\n",
       "      <td>-76.781232</td>\n",
       "      <td>492</td>\n",
       "      <td>-5</td>\n",
       "      <td>A</td>\n",
       "      <td>America/New_York</td>\n",
       "    </tr>\n",
       "    <tr>\n",
       "      <th>8</th>\n",
       "      <td>0P2</td>\n",
       "      <td>Shoestring Aviation Airfield</td>\n",
       "      <td>39.794824</td>\n",
       "      <td>-76.647191</td>\n",
       "      <td>1000</td>\n",
       "      <td>-5</td>\n",
       "      <td>U</td>\n",
       "      <td>America/New_York</td>\n",
       "    </tr>\n",
       "    <tr>\n",
       "      <th>9</th>\n",
       "      <td>0S9</td>\n",
       "      <td>Jefferson County Intl</td>\n",
       "      <td>48.053809</td>\n",
       "      <td>-122.810644</td>\n",
       "      <td>108</td>\n",
       "      <td>-8</td>\n",
       "      <td>A</td>\n",
       "      <td>America/Los_Angeles</td>\n",
       "    </tr>\n",
       "  </tbody>\n",
       "</table>\n",
       "</div>"
      ],
      "text/plain": [
       "   faa                            name        lat         lon   alt  tz dst  \\\n",
       "0  04G               Lansdowne Airport  41.130472  -80.619583  1044  -5   A   \n",
       "1  06A   Moton Field Municipal Airport  32.460572  -85.680028   264  -6   A   \n",
       "2  06C             Schaumburg Regional  41.989341  -88.101243   801  -6   A   \n",
       "3  06N                 Randall Airport  41.431912  -74.391561   523  -5   A   \n",
       "4  09J           Jekyll Island Airport  31.074472  -81.427778    11  -5   A   \n",
       "5  0A9  Elizabethton Municipal Airport  36.371222  -82.173417  1593  -5   A   \n",
       "6  0G6         Williams County Airport  41.467306  -84.506778   730  -5   A   \n",
       "7  0G7   Finger Lakes Regional Airport  42.883565  -76.781232   492  -5   A   \n",
       "8  0P2    Shoestring Aviation Airfield  39.794824  -76.647191  1000  -5   U   \n",
       "9  0S9           Jefferson County Intl  48.053809 -122.810644   108  -8   A   \n",
       "\n",
       "                 tzone  \n",
       "0     America/New_York  \n",
       "1      America/Chicago  \n",
       "2      America/Chicago  \n",
       "3     America/New_York  \n",
       "4     America/New_York  \n",
       "5     America/New_York  \n",
       "6     America/New_York  \n",
       "7     America/New_York  \n",
       "8     America/New_York  \n",
       "9  America/Los_Angeles  "
      ]
     },
     "execution_count": 61,
     "metadata": {},
     "output_type": "execute_result"
    }
   ],
   "source": [
    "airports = pd.read_csv('airports.csv')\n",
    "airports.head(10)"
   ]
  },
  {
   "cell_type": "code",
   "execution_count": 62,
   "id": "c50682b6",
   "metadata": {},
   "outputs": [],
   "source": [
    "# Your task: Load the *planes* and *weather* tables from CSV files, store them a variables called weather and planes and take a look at the first few rows of each table.\n",
    "planes = pd.read_csv('planes.csv')\n",
    "weather = pd.read_csv('weather.csv')"
   ]
  },
  {
   "cell_type": "markdown",
   "id": "f98ebb87",
   "metadata": {},
   "source": [
    "## Prepare Data\n",
    "\n",
    "Before we start exploring the data, we need to prepare it. This includes cleaning the data (e.g., filtering rows with missing values or outliers), creating new features, and merging tables."
   ]
  },
  {
   "cell_type": "markdown",
   "id": "bdaf0980",
   "metadata": {},
   "source": [
    "### Filter out observations"
   ]
  },
  {
   "cell_type": "markdown",
   "id": "bec963ac",
   "metadata": {},
   "source": [
    "We start by filtering the `flights` table to exclude flights with a `distance` or `air_time` smaller or equal to 0. "
   ]
  },
  {
   "cell_type": "code",
   "execution_count": 63,
   "id": "041a1bcb",
   "metadata": {},
   "outputs": [
    {
     "data": {
      "text/plain": [
       "(336776, 19)"
      ]
     },
     "execution_count": 63,
     "metadata": {},
     "output_type": "execute_result"
    }
   ],
   "source": [
    "flights = flights[flights['distance'] > 0]\n",
    "flights.shape"
   ]
  },
  {
   "cell_type": "code",
   "execution_count": 64,
   "id": "b3d61821",
   "metadata": {},
   "outputs": [],
   "source": [
    "# Your task: Filter out all flights with an air time of 0"
   ]
  },
  {
   "cell_type": "markdown",
   "id": "2af16b46",
   "metadata": {},
   "source": [
    "### Construct new variables"
   ]
  },
  {
   "cell_type": "markdown",
   "id": "311350c0",
   "metadata": {},
   "source": [
    "The way how times are represented in this dataset is quite strange (look at the values `dep_time` or `arr_time` and the separate `hour` and `minute` columns). We will use the timestamps in the `time_hour` column to extract new time variables (`month` and `weekday`) and then remove the column."
   ]
  },
  {
   "cell_type": "code",
   "execution_count": 65,
   "id": "1d29442b",
   "metadata": {},
   "outputs": [],
   "source": [
    "flights['time_hour'] = pd.to_datetime(flights['time_hour'], utc=True)\n",
    "flights['month_name'] = flights['time_hour'].dt.month_name()\n",
    "flights['weekday_name'] = flights['time_hour'].dt.day_name()\n",
    "flights = flights.drop(columns=['time_hour'])"
   ]
  },
  {
   "cell_type": "code",
   "execution_count": 66,
   "id": "49d0a15d",
   "metadata": {},
   "outputs": [
    {
     "data": {
      "text/html": [
       "<div>\n",
       "<style scoped>\n",
       "    .dataframe tbody tr th:only-of-type {\n",
       "        vertical-align: middle;\n",
       "    }\n",
       "\n",
       "    .dataframe tbody tr th {\n",
       "        vertical-align: top;\n",
       "    }\n",
       "\n",
       "    .dataframe thead th {\n",
       "        text-align: right;\n",
       "    }\n",
       "</style>\n",
       "<table border=\"1\" class=\"dataframe\">\n",
       "  <thead>\n",
       "    <tr style=\"text-align: right;\">\n",
       "      <th></th>\n",
       "      <th>year</th>\n",
       "      <th>month</th>\n",
       "      <th>day</th>\n",
       "      <th>dep_time</th>\n",
       "      <th>sched_dep_time</th>\n",
       "      <th>dep_delay</th>\n",
       "      <th>arr_time</th>\n",
       "      <th>sched_arr_time</th>\n",
       "      <th>arr_delay</th>\n",
       "      <th>carrier</th>\n",
       "      <th>flight</th>\n",
       "      <th>tailnum</th>\n",
       "      <th>origin</th>\n",
       "      <th>dest</th>\n",
       "      <th>air_time</th>\n",
       "      <th>distance</th>\n",
       "      <th>hour</th>\n",
       "      <th>minute</th>\n",
       "      <th>month_name</th>\n",
       "      <th>weekday_name</th>\n",
       "    </tr>\n",
       "  </thead>\n",
       "  <tbody>\n",
       "    <tr>\n",
       "      <th>0</th>\n",
       "      <td>2013</td>\n",
       "      <td>1</td>\n",
       "      <td>1</td>\n",
       "      <td>517.0</td>\n",
       "      <td>515</td>\n",
       "      <td>2.0</td>\n",
       "      <td>830.0</td>\n",
       "      <td>819</td>\n",
       "      <td>11.0</td>\n",
       "      <td>UA</td>\n",
       "      <td>1545</td>\n",
       "      <td>N14228</td>\n",
       "      <td>EWR</td>\n",
       "      <td>IAH</td>\n",
       "      <td>227.0</td>\n",
       "      <td>1400</td>\n",
       "      <td>5</td>\n",
       "      <td>15</td>\n",
       "      <td>January</td>\n",
       "      <td>Tuesday</td>\n",
       "    </tr>\n",
       "    <tr>\n",
       "      <th>1</th>\n",
       "      <td>2013</td>\n",
       "      <td>1</td>\n",
       "      <td>1</td>\n",
       "      <td>533.0</td>\n",
       "      <td>529</td>\n",
       "      <td>4.0</td>\n",
       "      <td>850.0</td>\n",
       "      <td>830</td>\n",
       "      <td>20.0</td>\n",
       "      <td>UA</td>\n",
       "      <td>1714</td>\n",
       "      <td>N24211</td>\n",
       "      <td>LGA</td>\n",
       "      <td>IAH</td>\n",
       "      <td>227.0</td>\n",
       "      <td>1416</td>\n",
       "      <td>5</td>\n",
       "      <td>29</td>\n",
       "      <td>January</td>\n",
       "      <td>Tuesday</td>\n",
       "    </tr>\n",
       "    <tr>\n",
       "      <th>2</th>\n",
       "      <td>2013</td>\n",
       "      <td>1</td>\n",
       "      <td>1</td>\n",
       "      <td>542.0</td>\n",
       "      <td>540</td>\n",
       "      <td>2.0</td>\n",
       "      <td>923.0</td>\n",
       "      <td>850</td>\n",
       "      <td>33.0</td>\n",
       "      <td>AA</td>\n",
       "      <td>1141</td>\n",
       "      <td>N619AA</td>\n",
       "      <td>JFK</td>\n",
       "      <td>MIA</td>\n",
       "      <td>160.0</td>\n",
       "      <td>1089</td>\n",
       "      <td>5</td>\n",
       "      <td>40</td>\n",
       "      <td>January</td>\n",
       "      <td>Tuesday</td>\n",
       "    </tr>\n",
       "    <tr>\n",
       "      <th>3</th>\n",
       "      <td>2013</td>\n",
       "      <td>1</td>\n",
       "      <td>1</td>\n",
       "      <td>544.0</td>\n",
       "      <td>545</td>\n",
       "      <td>-1.0</td>\n",
       "      <td>1004.0</td>\n",
       "      <td>1022</td>\n",
       "      <td>-18.0</td>\n",
       "      <td>B6</td>\n",
       "      <td>725</td>\n",
       "      <td>N804JB</td>\n",
       "      <td>JFK</td>\n",
       "      <td>BQN</td>\n",
       "      <td>183.0</td>\n",
       "      <td>1576</td>\n",
       "      <td>5</td>\n",
       "      <td>45</td>\n",
       "      <td>January</td>\n",
       "      <td>Tuesday</td>\n",
       "    </tr>\n",
       "    <tr>\n",
       "      <th>4</th>\n",
       "      <td>2013</td>\n",
       "      <td>1</td>\n",
       "      <td>1</td>\n",
       "      <td>554.0</td>\n",
       "      <td>600</td>\n",
       "      <td>-6.0</td>\n",
       "      <td>812.0</td>\n",
       "      <td>837</td>\n",
       "      <td>-25.0</td>\n",
       "      <td>DL</td>\n",
       "      <td>461</td>\n",
       "      <td>N668DN</td>\n",
       "      <td>LGA</td>\n",
       "      <td>ATL</td>\n",
       "      <td>116.0</td>\n",
       "      <td>762</td>\n",
       "      <td>6</td>\n",
       "      <td>0</td>\n",
       "      <td>January</td>\n",
       "      <td>Tuesday</td>\n",
       "    </tr>\n",
       "  </tbody>\n",
       "</table>\n",
       "</div>"
      ],
      "text/plain": [
       "   year  month  day  dep_time  sched_dep_time  dep_delay  arr_time  \\\n",
       "0  2013      1    1     517.0             515        2.0     830.0   \n",
       "1  2013      1    1     533.0             529        4.0     850.0   \n",
       "2  2013      1    1     542.0             540        2.0     923.0   \n",
       "3  2013      1    1     544.0             545       -1.0    1004.0   \n",
       "4  2013      1    1     554.0             600       -6.0     812.0   \n",
       "\n",
       "   sched_arr_time  arr_delay carrier  flight tailnum origin dest  air_time  \\\n",
       "0             819       11.0      UA    1545  N14228    EWR  IAH     227.0   \n",
       "1             830       20.0      UA    1714  N24211    LGA  IAH     227.0   \n",
       "2             850       33.0      AA    1141  N619AA    JFK  MIA     160.0   \n",
       "3            1022      -18.0      B6     725  N804JB    JFK  BQN     183.0   \n",
       "4             837      -25.0      DL     461  N668DN    LGA  ATL     116.0   \n",
       "\n",
       "   distance  hour  minute month_name weekday_name  \n",
       "0      1400     5      15    January      Tuesday  \n",
       "1      1416     5      29    January      Tuesday  \n",
       "2      1089     5      40    January      Tuesday  \n",
       "3      1576     5      45    January      Tuesday  \n",
       "4       762     6       0    January      Tuesday  "
      ]
     },
     "execution_count": 66,
     "metadata": {},
     "output_type": "execute_result"
    }
   ],
   "source": [
    "flights.head()"
   ]
  },
  {
   "cell_type": "markdown",
   "id": "937c51d0",
   "metadata": {},
   "source": [
    "### Join tables"
   ]
  },
  {
   "cell_type": "markdown",
   "id": "51c18ded",
   "metadata": {},
   "source": [
    "Finally, we will merge some of the tables to create a single table that contains all the information we need for our visualizations. For this, we will use different types of SQL-style joins."
   ]
  },
  {
   "cell_type": "markdown",
   "id": "00bd548b",
   "metadata": {},
   "source": [
    "![Types of Joins](join-venn.png)"
   ]
  },
  {
   "cell_type": "markdown",
   "id": "0d5c2882",
   "metadata": {},
   "source": [
    "We primarily use inner joins for matching observations when keys are equal:\n",
    "\n",
    "![Inner Join](join-inner.png)\n"
   ]
  },
  {
   "cell_type": "markdown",
   "id": "2113be36",
   "metadata": {},
   "source": [
    "Let's demonstrate the differences between an **inner join** and a **left join** with some examples."
   ]
  },
  {
   "cell_type": "code",
   "execution_count": 67,
   "id": "9202e809",
   "metadata": {},
   "outputs": [
    {
     "data": {
      "text/plain": [
       "(336776, 21)"
      ]
     },
     "execution_count": 67,
     "metadata": {},
     "output_type": "execute_result"
    }
   ],
   "source": [
    "flights_and_airlines = flights.merge(airlines, on='carrier', how='inner')\n",
    "flights_and_airlines.shape"
   ]
  },
  {
   "cell_type": "code",
   "execution_count": 68,
   "id": "00b572a3",
   "metadata": {},
   "outputs": [
    {
     "data": {
      "text/plain": [
       "(336776, 21)"
      ]
     },
     "execution_count": 68,
     "metadata": {},
     "output_type": "execute_result"
    }
   ],
   "source": [
    "flights_and_airlines = flights.merge(airlines, on='carrier', how='left')\n",
    "flights_and_airlines.shape"
   ]
  },
  {
   "cell_type": "code",
   "execution_count": 69,
   "id": "f0e72ec9",
   "metadata": {},
   "outputs": [],
   "source": [
    "# Your task: Do the same with flights and planes."
   ]
  },
  {
   "cell_type": "markdown",
   "id": "b594a946",
   "metadata": {},
   "source": [
    "Left join of `flights` and `airports` using `origin` (left table) and `faa` (right table) as keys."
   ]
  },
  {
   "cell_type": "code",
   "execution_count": 70,
   "id": "85a25916",
   "metadata": {},
   "outputs": [
    {
     "data": {
      "text/plain": [
       "(336776, 28)"
      ]
     },
     "execution_count": 70,
     "metadata": {},
     "output_type": "execute_result"
    }
   ],
   "source": [
    "flights_and_origin_airports = flights.merge(airports, left_on='origin', right_on='faa', how='left')\n",
    "flights_and_origin_airports.shape"
   ]
  },
  {
   "cell_type": "markdown",
   "id": "4759df3f",
   "metadata": {},
   "source": [
    "Left join of `flights` and `airports` using `dest` (left table) and `faa` (right table) as keys."
   ]
  },
  {
   "cell_type": "code",
   "execution_count": 71,
   "id": "d05927c6",
   "metadata": {},
   "outputs": [
    {
     "data": {
      "text/plain": [
       "(336776, 28)"
      ]
     },
     "execution_count": 71,
     "metadata": {},
     "output_type": "execute_result"
    }
   ],
   "source": [
    "flights_and_dest_airports = flights.merge(airports, left_on='dest', right_on='faa', how='left')\n",
    "flights_and_dest_airports.shape"
   ]
  },
  {
   "cell_type": "markdown",
   "id": "c1454e34",
   "metadata": {},
   "source": [
    "Left join of `flights` and `weather` using a composite key consisting of `origin`, `month`, `day`, and `hour`.\n"
   ]
  },
  {
   "cell_type": "code",
   "execution_count": 72,
   "id": "ea6c3eee",
   "metadata": {},
   "outputs": [
    {
     "data": {
      "text/plain": [
       "(336776, 31)"
      ]
     },
     "execution_count": 72,
     "metadata": {},
     "output_type": "execute_result"
    }
   ],
   "source": [
    "flights_and_weather = flights.merge(weather, on=['origin', 'month', 'day', 'hour'], how='left')\n",
    "flights_and_weather.shape"
   ]
  },
  {
   "cell_type": "markdown",
   "id": "dab00669",
   "metadata": {},
   "source": [
    "We can now join all the tables (`flights`, `airlines`, `planes`, `airports`, `weather`) into one comprehensive table."
   ]
  },
  {
   "cell_type": "code",
   "execution_count": 73,
   "id": "deb784e3",
   "metadata": {},
   "outputs": [
    {
     "data": {
      "text/html": [
       "<div>\n",
       "<style scoped>\n",
       "    .dataframe tbody tr th:only-of-type {\n",
       "        vertical-align: middle;\n",
       "    }\n",
       "\n",
       "    .dataframe tbody tr th {\n",
       "        vertical-align: top;\n",
       "    }\n",
       "\n",
       "    .dataframe thead th {\n",
       "        text-align: right;\n",
       "    }\n",
       "</style>\n",
       "<table border=\"1\" class=\"dataframe\">\n",
       "  <thead>\n",
       "    <tr style=\"text-align: right;\">\n",
       "      <th></th>\n",
       "      <th>year_x</th>\n",
       "      <th>month</th>\n",
       "      <th>day</th>\n",
       "      <th>dep_time</th>\n",
       "      <th>sched_dep_time</th>\n",
       "      <th>dep_delay</th>\n",
       "      <th>arr_time</th>\n",
       "      <th>sched_arr_time</th>\n",
       "      <th>arr_delay</th>\n",
       "      <th>carrier</th>\n",
       "      <th>...</th>\n",
       "      <th>temp</th>\n",
       "      <th>dewp</th>\n",
       "      <th>humid</th>\n",
       "      <th>wind_dir</th>\n",
       "      <th>wind_speed</th>\n",
       "      <th>wind_gust</th>\n",
       "      <th>precip</th>\n",
       "      <th>pressure</th>\n",
       "      <th>visib</th>\n",
       "      <th>time_hour</th>\n",
       "    </tr>\n",
       "  </thead>\n",
       "  <tbody>\n",
       "    <tr>\n",
       "      <th>0</th>\n",
       "      <td>2013</td>\n",
       "      <td>1</td>\n",
       "      <td>1</td>\n",
       "      <td>517.0</td>\n",
       "      <td>515</td>\n",
       "      <td>2.0</td>\n",
       "      <td>830.0</td>\n",
       "      <td>819</td>\n",
       "      <td>11.0</td>\n",
       "      <td>UA</td>\n",
       "      <td>...</td>\n",
       "      <td>39.02</td>\n",
       "      <td>28.04</td>\n",
       "      <td>64.43</td>\n",
       "      <td>260.0</td>\n",
       "      <td>12.65858</td>\n",
       "      <td>NaN</td>\n",
       "      <td>0.0</td>\n",
       "      <td>1011.9</td>\n",
       "      <td>10.0</td>\n",
       "      <td>2013-01-01T10:00:00Z</td>\n",
       "    </tr>\n",
       "    <tr>\n",
       "      <th>1</th>\n",
       "      <td>2013</td>\n",
       "      <td>1</td>\n",
       "      <td>1</td>\n",
       "      <td>533.0</td>\n",
       "      <td>529</td>\n",
       "      <td>4.0</td>\n",
       "      <td>850.0</td>\n",
       "      <td>830</td>\n",
       "      <td>20.0</td>\n",
       "      <td>UA</td>\n",
       "      <td>...</td>\n",
       "      <td>39.92</td>\n",
       "      <td>24.98</td>\n",
       "      <td>54.81</td>\n",
       "      <td>250.0</td>\n",
       "      <td>14.96014</td>\n",
       "      <td>21.86482</td>\n",
       "      <td>0.0</td>\n",
       "      <td>1011.4</td>\n",
       "      <td>10.0</td>\n",
       "      <td>2013-01-01T10:00:00Z</td>\n",
       "    </tr>\n",
       "    <tr>\n",
       "      <th>2</th>\n",
       "      <td>2013</td>\n",
       "      <td>1</td>\n",
       "      <td>1</td>\n",
       "      <td>542.0</td>\n",
       "      <td>540</td>\n",
       "      <td>2.0</td>\n",
       "      <td>923.0</td>\n",
       "      <td>850</td>\n",
       "      <td>33.0</td>\n",
       "      <td>AA</td>\n",
       "      <td>...</td>\n",
       "      <td>39.02</td>\n",
       "      <td>26.96</td>\n",
       "      <td>61.63</td>\n",
       "      <td>260.0</td>\n",
       "      <td>14.96014</td>\n",
       "      <td>NaN</td>\n",
       "      <td>0.0</td>\n",
       "      <td>1012.1</td>\n",
       "      <td>10.0</td>\n",
       "      <td>2013-01-01T10:00:00Z</td>\n",
       "    </tr>\n",
       "    <tr>\n",
       "      <th>3</th>\n",
       "      <td>2013</td>\n",
       "      <td>1</td>\n",
       "      <td>1</td>\n",
       "      <td>544.0</td>\n",
       "      <td>545</td>\n",
       "      <td>-1.0</td>\n",
       "      <td>1004.0</td>\n",
       "      <td>1022</td>\n",
       "      <td>-18.0</td>\n",
       "      <td>B6</td>\n",
       "      <td>...</td>\n",
       "      <td>39.02</td>\n",
       "      <td>26.96</td>\n",
       "      <td>61.63</td>\n",
       "      <td>260.0</td>\n",
       "      <td>14.96014</td>\n",
       "      <td>NaN</td>\n",
       "      <td>0.0</td>\n",
       "      <td>1012.1</td>\n",
       "      <td>10.0</td>\n",
       "      <td>2013-01-01T10:00:00Z</td>\n",
       "    </tr>\n",
       "    <tr>\n",
       "      <th>4</th>\n",
       "      <td>2013</td>\n",
       "      <td>1</td>\n",
       "      <td>1</td>\n",
       "      <td>554.0</td>\n",
       "      <td>600</td>\n",
       "      <td>-6.0</td>\n",
       "      <td>812.0</td>\n",
       "      <td>837</td>\n",
       "      <td>-25.0</td>\n",
       "      <td>DL</td>\n",
       "      <td>...</td>\n",
       "      <td>39.92</td>\n",
       "      <td>24.98</td>\n",
       "      <td>54.81</td>\n",
       "      <td>260.0</td>\n",
       "      <td>16.11092</td>\n",
       "      <td>23.01560</td>\n",
       "      <td>0.0</td>\n",
       "      <td>1011.7</td>\n",
       "      <td>10.0</td>\n",
       "      <td>2013-01-01T11:00:00Z</td>\n",
       "    </tr>\n",
       "  </tbody>\n",
       "</table>\n",
       "<p>5 rows × 56 columns</p>\n",
       "</div>"
      ],
      "text/plain": [
       "   year_x  month  day  dep_time  sched_dep_time  dep_delay  arr_time  \\\n",
       "0    2013      1    1     517.0             515        2.0     830.0   \n",
       "1    2013      1    1     533.0             529        4.0     850.0   \n",
       "2    2013      1    1     542.0             540        2.0     923.0   \n",
       "3    2013      1    1     544.0             545       -1.0    1004.0   \n",
       "4    2013      1    1     554.0             600       -6.0     812.0   \n",
       "\n",
       "   sched_arr_time  arr_delay carrier  ...   temp   dewp  humid wind_dir  \\\n",
       "0             819       11.0      UA  ...  39.02  28.04  64.43    260.0   \n",
       "1             830       20.0      UA  ...  39.92  24.98  54.81    250.0   \n",
       "2             850       33.0      AA  ...  39.02  26.96  61.63    260.0   \n",
       "3            1022      -18.0      B6  ...  39.02  26.96  61.63    260.0   \n",
       "4             837      -25.0      DL  ...  39.92  24.98  54.81    260.0   \n",
       "\n",
       "   wind_speed  wind_gust  precip  pressure visib             time_hour  \n",
       "0    12.65858        NaN     0.0    1011.9  10.0  2013-01-01T10:00:00Z  \n",
       "1    14.96014   21.86482     0.0    1011.4  10.0  2013-01-01T10:00:00Z  \n",
       "2    14.96014        NaN     0.0    1012.1  10.0  2013-01-01T10:00:00Z  \n",
       "3    14.96014        NaN     0.0    1012.1  10.0  2013-01-01T10:00:00Z  \n",
       "4    16.11092   23.01560     0.0    1011.7  10.0  2013-01-01T11:00:00Z  \n",
       "\n",
       "[5 rows x 56 columns]"
      ]
     },
     "execution_count": 73,
     "metadata": {},
     "output_type": "execute_result"
    }
   ],
   "source": [
    "flights_all = (\n",
    "    flights\n",
    "    .merge(airlines, on='carrier', how='left')\n",
    "    .merge(planes, on='tailnum', how='left')\n",
    "    .merge(airports, left_on='origin', right_on='faa', how='left', suffixes=('_origin', '_dest'))\n",
    "    .merge(airports, left_on='dest', right_on='faa', how='left', suffixes=('', '_dest'))\n",
    "    .merge(weather, on=['origin', 'month', 'day', 'hour'], how='left')\n",
    ")\n",
    "\n",
    "flights_all.head()\n"
   ]
  },
  {
   "cell_type": "code",
   "execution_count": 74,
   "id": "8552728b",
   "metadata": {},
   "outputs": [
    {
     "data": {
      "text/plain": [
       "(336776, 56)"
      ]
     },
     "execution_count": 74,
     "metadata": {},
     "output_type": "execute_result"
    }
   ],
   "source": [
    "flights_all.shape"
   ]
  },
  {
   "cell_type": "code",
   "execution_count": 75,
   "id": "ffee78bc",
   "metadata": {},
   "outputs": [
    {
     "data": {
      "text/plain": [
       "Index(['year_x', 'month', 'day', 'dep_time', 'sched_dep_time', 'dep_delay',\n",
       "       'arr_time', 'sched_arr_time', 'arr_delay', 'carrier', 'flight',\n",
       "       'tailnum', 'origin', 'dest', 'air_time', 'distance', 'hour', 'minute',\n",
       "       'month_name', 'weekday_name', 'name_origin', 'year_y', 'type',\n",
       "       'manufacturer', 'model', 'engines', 'seats', 'speed', 'engine', 'faa',\n",
       "       'name_dest', 'lat', 'lon', 'alt', 'tz', 'dst', 'tzone', 'faa_dest',\n",
       "       'name', 'lat_dest', 'lon_dest', 'alt_dest', 'tz_dest', 'dst_dest',\n",
       "       'tzone_dest', 'year', 'temp', 'dewp', 'humid', 'wind_dir', 'wind_speed',\n",
       "       'wind_gust', 'precip', 'pressure', 'visib', 'time_hour'],\n",
       "      dtype='object')"
      ]
     },
     "execution_count": 75,
     "metadata": {},
     "output_type": "execute_result"
    }
   ],
   "source": [
    "flights_all.columns"
   ]
  },
  {
   "cell_type": "markdown",
   "id": "a250f2f7",
   "metadata": {},
   "source": [
    "The joins created some duplicate columns. Let's remove them and renaming columns for clarity."
   ]
  },
  {
   "cell_type": "code",
   "execution_count": 76,
   "id": "d6397bf0",
   "metadata": {},
   "outputs": [],
   "source": [
    "flights_all = flights_all.drop(columns=['year_y', 'time_hour'])\n",
    "\n",
    "flights_all = flights_all.rename(columns={\n",
    "    'year_x': 'year',\n",
    "})"
   ]
  },
  {
   "cell_type": "code",
   "execution_count": 77,
   "id": "2b85c23a",
   "metadata": {},
   "outputs": [
    {
     "data": {
      "text/html": [
       "<div>\n",
       "<style scoped>\n",
       "    .dataframe tbody tr th:only-of-type {\n",
       "        vertical-align: middle;\n",
       "    }\n",
       "\n",
       "    .dataframe tbody tr th {\n",
       "        vertical-align: top;\n",
       "    }\n",
       "\n",
       "    .dataframe thead th {\n",
       "        text-align: right;\n",
       "    }\n",
       "</style>\n",
       "<table border=\"1\" class=\"dataframe\">\n",
       "  <thead>\n",
       "    <tr style=\"text-align: right;\">\n",
       "      <th></th>\n",
       "      <th>year</th>\n",
       "      <th>month</th>\n",
       "      <th>day</th>\n",
       "      <th>dep_time</th>\n",
       "      <th>sched_dep_time</th>\n",
       "      <th>dep_delay</th>\n",
       "      <th>arr_time</th>\n",
       "      <th>sched_arr_time</th>\n",
       "      <th>arr_delay</th>\n",
       "      <th>carrier</th>\n",
       "      <th>...</th>\n",
       "      <th>year</th>\n",
       "      <th>temp</th>\n",
       "      <th>dewp</th>\n",
       "      <th>humid</th>\n",
       "      <th>wind_dir</th>\n",
       "      <th>wind_speed</th>\n",
       "      <th>wind_gust</th>\n",
       "      <th>precip</th>\n",
       "      <th>pressure</th>\n",
       "      <th>visib</th>\n",
       "    </tr>\n",
       "  </thead>\n",
       "  <tbody>\n",
       "    <tr>\n",
       "      <th>0</th>\n",
       "      <td>2013</td>\n",
       "      <td>1</td>\n",
       "      <td>1</td>\n",
       "      <td>517.0</td>\n",
       "      <td>515</td>\n",
       "      <td>2.0</td>\n",
       "      <td>830.0</td>\n",
       "      <td>819</td>\n",
       "      <td>11.0</td>\n",
       "      <td>UA</td>\n",
       "      <td>...</td>\n",
       "      <td>2013.0</td>\n",
       "      <td>39.02</td>\n",
       "      <td>28.04</td>\n",
       "      <td>64.43</td>\n",
       "      <td>260.0</td>\n",
       "      <td>12.65858</td>\n",
       "      <td>NaN</td>\n",
       "      <td>0.0</td>\n",
       "      <td>1011.9</td>\n",
       "      <td>10.0</td>\n",
       "    </tr>\n",
       "    <tr>\n",
       "      <th>1</th>\n",
       "      <td>2013</td>\n",
       "      <td>1</td>\n",
       "      <td>1</td>\n",
       "      <td>533.0</td>\n",
       "      <td>529</td>\n",
       "      <td>4.0</td>\n",
       "      <td>850.0</td>\n",
       "      <td>830</td>\n",
       "      <td>20.0</td>\n",
       "      <td>UA</td>\n",
       "      <td>...</td>\n",
       "      <td>2013.0</td>\n",
       "      <td>39.92</td>\n",
       "      <td>24.98</td>\n",
       "      <td>54.81</td>\n",
       "      <td>250.0</td>\n",
       "      <td>14.96014</td>\n",
       "      <td>21.86482</td>\n",
       "      <td>0.0</td>\n",
       "      <td>1011.4</td>\n",
       "      <td>10.0</td>\n",
       "    </tr>\n",
       "    <tr>\n",
       "      <th>2</th>\n",
       "      <td>2013</td>\n",
       "      <td>1</td>\n",
       "      <td>1</td>\n",
       "      <td>542.0</td>\n",
       "      <td>540</td>\n",
       "      <td>2.0</td>\n",
       "      <td>923.0</td>\n",
       "      <td>850</td>\n",
       "      <td>33.0</td>\n",
       "      <td>AA</td>\n",
       "      <td>...</td>\n",
       "      <td>2013.0</td>\n",
       "      <td>39.02</td>\n",
       "      <td>26.96</td>\n",
       "      <td>61.63</td>\n",
       "      <td>260.0</td>\n",
       "      <td>14.96014</td>\n",
       "      <td>NaN</td>\n",
       "      <td>0.0</td>\n",
       "      <td>1012.1</td>\n",
       "      <td>10.0</td>\n",
       "    </tr>\n",
       "    <tr>\n",
       "      <th>3</th>\n",
       "      <td>2013</td>\n",
       "      <td>1</td>\n",
       "      <td>1</td>\n",
       "      <td>544.0</td>\n",
       "      <td>545</td>\n",
       "      <td>-1.0</td>\n",
       "      <td>1004.0</td>\n",
       "      <td>1022</td>\n",
       "      <td>-18.0</td>\n",
       "      <td>B6</td>\n",
       "      <td>...</td>\n",
       "      <td>2013.0</td>\n",
       "      <td>39.02</td>\n",
       "      <td>26.96</td>\n",
       "      <td>61.63</td>\n",
       "      <td>260.0</td>\n",
       "      <td>14.96014</td>\n",
       "      <td>NaN</td>\n",
       "      <td>0.0</td>\n",
       "      <td>1012.1</td>\n",
       "      <td>10.0</td>\n",
       "    </tr>\n",
       "    <tr>\n",
       "      <th>4</th>\n",
       "      <td>2013</td>\n",
       "      <td>1</td>\n",
       "      <td>1</td>\n",
       "      <td>554.0</td>\n",
       "      <td>600</td>\n",
       "      <td>-6.0</td>\n",
       "      <td>812.0</td>\n",
       "      <td>837</td>\n",
       "      <td>-25.0</td>\n",
       "      <td>DL</td>\n",
       "      <td>...</td>\n",
       "      <td>2013.0</td>\n",
       "      <td>39.92</td>\n",
       "      <td>24.98</td>\n",
       "      <td>54.81</td>\n",
       "      <td>260.0</td>\n",
       "      <td>16.11092</td>\n",
       "      <td>23.01560</td>\n",
       "      <td>0.0</td>\n",
       "      <td>1011.7</td>\n",
       "      <td>10.0</td>\n",
       "    </tr>\n",
       "  </tbody>\n",
       "</table>\n",
       "<p>5 rows × 54 columns</p>\n",
       "</div>"
      ],
      "text/plain": [
       "   year  month  day  dep_time  sched_dep_time  dep_delay  arr_time  \\\n",
       "0  2013      1    1     517.0             515        2.0     830.0   \n",
       "1  2013      1    1     533.0             529        4.0     850.0   \n",
       "2  2013      1    1     542.0             540        2.0     923.0   \n",
       "3  2013      1    1     544.0             545       -1.0    1004.0   \n",
       "4  2013      1    1     554.0             600       -6.0     812.0   \n",
       "\n",
       "   sched_arr_time  arr_delay carrier  ...    year   temp   dewp  humid  \\\n",
       "0             819       11.0      UA  ...  2013.0  39.02  28.04  64.43   \n",
       "1             830       20.0      UA  ...  2013.0  39.92  24.98  54.81   \n",
       "2             850       33.0      AA  ...  2013.0  39.02  26.96  61.63   \n",
       "3            1022      -18.0      B6  ...  2013.0  39.02  26.96  61.63   \n",
       "4             837      -25.0      DL  ...  2013.0  39.92  24.98  54.81   \n",
       "\n",
       "   wind_dir  wind_speed  wind_gust  precip pressure visib  \n",
       "0     260.0    12.65858        NaN     0.0   1011.9  10.0  \n",
       "1     250.0    14.96014   21.86482     0.0   1011.4  10.0  \n",
       "2     260.0    14.96014        NaN     0.0   1012.1  10.0  \n",
       "3     260.0    14.96014        NaN     0.0   1012.1  10.0  \n",
       "4     260.0    16.11092   23.01560     0.0   1011.7  10.0  \n",
       "\n",
       "[5 rows x 54 columns]"
      ]
     },
     "execution_count": 77,
     "metadata": {},
     "output_type": "execute_result"
    }
   ],
   "source": [
    "flights_all.head()"
   ]
  },
  {
   "cell_type": "code",
   "execution_count": 78,
   "id": "1955244c",
   "metadata": {},
   "outputs": [
    {
     "data": {
      "text/plain": [
       "Index(['year', 'month', 'day', 'dep_time', 'sched_dep_time', 'dep_delay',\n",
       "       'arr_time', 'sched_arr_time', 'arr_delay', 'carrier', 'flight',\n",
       "       'tailnum', 'origin', 'dest', 'air_time', 'distance', 'hour', 'minute',\n",
       "       'month_name', 'weekday_name', 'name_origin', 'type', 'manufacturer',\n",
       "       'model', 'engines', 'seats', 'speed', 'engine', 'faa', 'name_dest',\n",
       "       'lat', 'lon', 'alt', 'tz', 'dst', 'tzone', 'faa_dest', 'name',\n",
       "       'lat_dest', 'lon_dest', 'alt_dest', 'tz_dest', 'dst_dest', 'tzone_dest',\n",
       "       'year', 'temp', 'dewp', 'humid', 'wind_dir', 'wind_speed', 'wind_gust',\n",
       "       'precip', 'pressure', 'visib'],\n",
       "      dtype='object')"
      ]
     },
     "execution_count": 78,
     "metadata": {},
     "output_type": "execute_result"
    }
   ],
   "source": [
    "flights_all.columns"
   ]
  },
  {
   "cell_type": "markdown",
   "id": "fc106d61",
   "metadata": {},
   "source": [
    "# Analyze Missing Values"
   ]
  },
  {
   "cell_type": "markdown",
   "id": "dd8b7118",
   "metadata": {},
   "source": [
    "\n",
    "# Explore Data through Visualizations\n",
    "\n",
    "We will now visualize categorical and numerical variables to gain insights into the data. We will use the Seaborn library for this purpose. Seaborn is a data visualization library based on Matplotlib. It provides a high-level interface for drawing attractive and informative statistical graphics. But it also offers a low-level interface for detailed customization of plots.\n"
   ]
  },
  {
   "cell_type": "markdown",
   "id": "afaff543",
   "metadata": {},
   "source": [
    "### Plots for Categorical Variables"
   ]
  },
  {
   "cell_type": "markdown",
   "id": "ebb2956c",
   "metadata": {},
   "source": [
    "We begin by plotting a bar chart of the number of flights by `origin` airport. The function `countplot` is used to show the counts of observations in each categorical bin using bars. Then we use the functions `title`, `xlabel`, and `ylabel` to set a title and labels of the x and y axes, respectively.\n"
   ]
  },
  {
   "cell_type": "code",
   "execution_count": null,
   "id": "d5910cee",
   "metadata": {},
   "outputs": [],
   "source": [
    "sns.countplot(data=flights_all, x='origin')\n",
    "plt.title('Number of Flights by Origin Airport')\n",
    "plt.xlabel('Origin Airport')\n",
    "plt.ylabel('Number of Flights')\n",
    "plt.show()\n"
   ]
  },
  {
   "cell_type": "code",
   "execution_count": 28,
   "id": "0d95dce8",
   "metadata": {},
   "outputs": [],
   "source": [
    "# Your task: Do the same for the number of flights by airline."
   ]
  },
  {
   "cell_type": "markdown",
   "id": "dc3c5d98",
   "metadata": {},
   "source": [
    "To order the bars by frequency, we can use the `order` parameter of the `countplot` function.\n"
   ]
  },
  {
   "cell_type": "code",
   "execution_count": null,
   "id": "aab5cfed",
   "metadata": {},
   "outputs": [],
   "source": [
    "sns.countplot(data=flights_all, x='carrier', order=flights_all['carrier'].value_counts().index)\n",
    "plt.title('Who are the biggest airlines in NYC?')\n",
    "plt.xlabel('Airline Code')\n",
    "plt.ylabel('Number of Flights Leaving NYC')\n",
    "plt.xticks(rotation=90)\n",
    "plt.show()\n"
   ]
  },
  {
   "cell_type": "markdown",
   "id": "b2b4d643",
   "metadata": {},
   "source": [
    "### Plots for Numerical Variables\n",
    "\n",
    "Next, we explore the distribution of the `distance` of all flights using the `displot` function. Using the value *hist* for the `kind` parameter, we can plot a histogram. The *bins* parameter specifies the number of bins to use for the histogram.\n"
   ]
  },
  {
   "cell_type": "code",
   "execution_count": null,
   "id": "4b503d6c",
   "metadata": {},
   "outputs": [],
   "source": [
    "sns.displot(data=flights_all, kind='hist', x='distance', bins=30)\n",
    "plt.title('Distribution of Flight Distances')\n",
    "plt.xlabel('Distance (miles)')\n",
    "plt.ylabel('Number of Flights')\n",
    "plt.show()\n"
   ]
  },
  {
   "cell_type": "code",
   "execution_count": 34,
   "id": "059aa30f",
   "metadata": {},
   "outputs": [],
   "source": [
    "# Your turn: Do the same for `airtime`. "
   ]
  },
  {
   "cell_type": "markdown",
   "id": "fe007e3d",
   "metadata": {},
   "source": [
    "Using the value *kde* for the `kind` parameter, we can plot a kernel density estimate. The *fill* parameter specifies whether to fill the area under the KDE curve."
   ]
  },
  {
   "cell_type": "code",
   "execution_count": null,
   "id": "9adee307",
   "metadata": {},
   "outputs": [],
   "source": [
    "sns.displot(data=flights_all, kind='kde', x='distance', fill=True)\n",
    "plt.title('Distribution of Flight Distances')\n",
    "plt.xlabel('Distance (miles)')\n",
    "plt.ylabel('Number of Flights')\n",
    "plt.show()\n"
   ]
  },
  {
   "cell_type": "markdown",
   "id": "23824b05",
   "metadata": {},
   "source": [
    "If you want to create the same plot for different subsets of the data, you can use the `FacetGrid` function. It maps a low-level function to create a plot (here: `histplot`) to each subset of the data defined by the level of a categorical variable. "
   ]
  },
  {
   "cell_type": "code",
   "execution_count": null,
   "id": "b33e5a2c",
   "metadata": {},
   "outputs": [],
   "source": [
    "g = sns.FacetGrid(flights_all, col=\"origin\")\n",
    "g.map(sns.histplot, \"distance\")\n",
    "plt.show()\n"
   ]
  },
  {
   "cell_type": "markdown",
   "id": "5e850944",
   "metadata": {},
   "source": [
    "Box plots provide another alternative for visualizing the distribution of numerical variables. The low-level function `boxplot` can be used to create a box plot for a numerical variable (here: `arr_delay`), optinally grouped by a categorical variable (here: `origin`)."
   ]
  },
  {
   "cell_type": "code",
   "execution_count": null,
   "id": "2f6fb2c6",
   "metadata": {},
   "outputs": [],
   "source": [
    "sns.boxplot(data=flights_all, y='distance', x='origin')\n",
    "plt.title('Box Plot of Flight Distances by Origin')\n",
    "plt.xlabel('Origin Airport')\n",
    "plt.ylabel('Distance')\n",
    "plt.show()\n"
   ]
  },
  {
   "cell_type": "code",
   "execution_count": 50,
   "id": "2f358c42",
   "metadata": {},
   "outputs": [],
   "source": [
    "# Your turn: Do the same for airlines instead of origin airports."
   ]
  },
  {
   "cell_type": "markdown",
   "id": "2bcdeab1",
   "metadata": {},
   "source": [
    "The above plots show the relationship between a categorical and a numerical variable. We can also visualize the relationship between two numerical variables. The `relplot` function offers various options for this purpose. Here, we use the `scatterplot` kind to create a scatter plot of `distance` and `air_time`."
   ]
  },
  {
   "cell_type": "code",
   "execution_count": null,
   "id": "18736621",
   "metadata": {},
   "outputs": [],
   "source": [
    "sns.relplot(data=flights_all, kind='scatter', x='distance', y='air_time', alpha=0.5)\n",
    "plt.title('Scatter Plot: Distance vs Air Time')\n",
    "plt.xlabel('Distance (miles)')\n",
    "plt.ylabel('Air Time (minutes)')\n",
    "plt.show()\n"
   ]
  },
  {
   "cell_type": "code",
   "execution_count": 55,
   "id": "16d5fdd5",
   "metadata": {},
   "outputs": [],
   "source": [
    "#Your task: Do the same for delay and a numerical weather variable of your choice."
   ]
  }
 ],
 "metadata": {
  "language_info": {
   "name": "python"
  }
 },
 "nbformat": 4,
 "nbformat_minor": 5
}
