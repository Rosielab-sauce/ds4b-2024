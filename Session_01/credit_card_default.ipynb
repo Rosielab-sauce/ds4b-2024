{
 "cells": [
  {
   "cell_type": "markdown",
   "id": "066cad34",
   "metadata": {},
   "source": [
    "# Data Science for Business - Predicting Credit Card Default with KNN"
   ]
  },
  {
   "cell_type": "code",
   "execution_count": 1,
   "id": "62201434",
   "metadata": {},
   "outputs": [],
   "source": [
    "import pandas as pd\n",
    "import numpy as np\n",
    "import matplotlib.pyplot as plt\n",
    "import seaborn as sns\n",
    "from sklearn.model_selection import train_test_split\n",
    "from sklearn.preprocessing import StandardScaler\n",
    "from sklearn.neighbors import KNeighborsClassifier\n",
    "from sklearn.metrics import classification_report, confusion_matrix"
   ]
  },
  {
   "cell_type": "code",
   "execution_count": 2,
   "id": "e4dfe84f",
   "metadata": {},
   "outputs": [],
   "source": [
    "# Set up workspace\n",
    "np.random.seed(42)\n",
    "# Turn off scientific notation for large numbers\n",
    "pd.options.display.float_format = '{:.2f}'.format"
   ]
  },
  {
   "cell_type": "markdown",
   "id": "40218778",
   "metadata": {},
   "source": [
    "## Load Data\n",
    "Importing the dataset from a CSV file."
   ]
  },
  {
   "cell_type": "code",
   "execution_count": 3,
   "id": "6db2634a",
   "metadata": {},
   "outputs": [],
   "source": [
    "df = pd.read_csv('https://raw.githubusercontent.com/olivermueller/ds4b-2024/96d117a1f864c0a2701580f784645b1e409fb7b0/Session_01/default.csv')"
   ]
  },
  {
   "cell_type": "code",
   "execution_count": null,
   "id": "1cd2f146",
   "metadata": {},
   "outputs": [],
   "source": [
    "df.head()"
   ]
  },
  {
   "cell_type": "markdown",
   "id": "855572e2",
   "metadata": {},
   "source": [
    "Removing unnecessary columns."
   ]
  },
  {
   "cell_type": "code",
   "execution_count": 5,
   "id": "892c10d0",
   "metadata": {},
   "outputs": [],
   "source": [
    "df = df.drop('student', axis=1)"
   ]
  },
  {
   "cell_type": "markdown",
   "id": "58f90796",
   "metadata": {},
   "source": [
    "## Summary Statistics\n",
    "Generating summary statistics and cross-tabulation for the `default` variable."
   ]
  },
  {
   "cell_type": "code",
   "execution_count": null,
   "id": "4fa01487",
   "metadata": {},
   "outputs": [],
   "source": [
    "# Summary statistics\n",
    "print(df.describe())"
   ]
  },
  {
   "cell_type": "code",
   "execution_count": null,
   "id": "ac12fff2",
   "metadata": {},
   "outputs": [],
   "source": [
    "# Cross-table for the `default` variable\n",
    "pd.crosstab(df['default'], columns='default')\n"
   ]
  },
  {
   "cell_type": "markdown",
   "id": "5ef69641",
   "metadata": {},
   "source": [
    "## Visualizations\n",
    "Use seaborn to visually explore the dataset."
   ]
  },
  {
   "cell_type": "code",
   "execution_count": null,
   "id": "3e8099a0",
   "metadata": {},
   "outputs": [],
   "source": [
    "# create a scatterplot with balance and income on the x and y axes and default as hue\n",
    "sns.scatterplot(x='balance', y='income', hue='default', alpha=0.5, data=df)\n",
    "plt.xlabel('Balance')\n",
    "plt.ylabel('Income')\n",
    "plt.show()"
   ]
  },
  {
   "cell_type": "markdown",
   "id": "ac3f676f",
   "metadata": {},
   "source": [
    "## Machine Learning - KNN\n",
    "Training a K-Nearest Neighbors model to predict credit card default."
   ]
  },
  {
   "cell_type": "code",
   "execution_count": 9,
   "id": "a3884f35",
   "metadata": {},
   "outputs": [],
   "source": [
    "# Splitting the data into features and outcome\n",
    "X = df[['balance', 'income']]\n",
    "y = df['default']\n",
    "\n",
    "# Splitting data into train and test sets\n",
    "X_train, X_test, y_train, y_test = train_test_split(X, y, test_size=0.2, random_state=42)"
   ]
  },
  {
   "cell_type": "code",
   "execution_count": 10,
   "id": "8fd1f1fc",
   "metadata": {},
   "outputs": [],
   "source": [
    "# Feature scaling\n",
    "scaler = StandardScaler()\n",
    "X_train = scaler.fit_transform(X_train)\n",
    "X_test = scaler.transform(X_test)"
   ]
  },
  {
   "cell_type": "code",
   "execution_count": null,
   "id": "a73cd94f",
   "metadata": {},
   "outputs": [],
   "source": [
    "# Training KNN model\n",
    "knn = KNeighborsClassifier(n_neighbors=5)\n",
    "knn.fit(X_train, y_train)"
   ]
  },
  {
   "cell_type": "code",
   "execution_count": null,
   "id": "8adca3e1",
   "metadata": {},
   "outputs": [],
   "source": [
    "# Show labels\n",
    "knn.classes_"
   ]
  },
  {
   "cell_type": "code",
   "execution_count": 13,
   "id": "f2d4448c",
   "metadata": {},
   "outputs": [],
   "source": [
    "# Making predictions\n",
    "y_prob = knn.predict_proba(X_test)[: , 1]"
   ]
  },
  {
   "cell_type": "code",
   "execution_count": null,
   "id": "f84fea5d",
   "metadata": {},
   "outputs": [],
   "source": [
    "y_prob"
   ]
  },
  {
   "cell_type": "code",
   "execution_count": null,
   "id": "45e32b9b",
   "metadata": {},
   "outputs": [],
   "source": [
    "# plot distribution of predicted probabilities for default\n",
    "sns.histplot(y_prob, kde=True)"
   ]
  },
  {
   "cell_type": "code",
   "execution_count": 16,
   "id": "bcf684b8",
   "metadata": {},
   "outputs": [],
   "source": [
    "# Transform probabilities into binary outcomes\n",
    "decision_threshold = 0.5\n",
    "y_pred = np.where(y_prob > decision_threshold, 'Yes', 'No')"
   ]
  },
  {
   "cell_type": "code",
   "execution_count": null,
   "id": "22c24c5f",
   "metadata": {},
   "outputs": [],
   "source": [
    "# Plot a confusion matrix\n",
    "conf_matrix = confusion_matrix(y_test, y_pred)\n",
    "\n",
    "sns.heatmap(conf_matrix, annot=True, fmt='d', cmap='Blues')\n",
    "plt.xlabel('Predicted')\n",
    "plt.ylabel('Actual')\n",
    "plt.title('Confusion Matrix')\n",
    "plt.show()"
   ]
  },
  {
   "cell_type": "code",
   "execution_count": null,
   "id": "1053f91d",
   "metadata": {},
   "outputs": [],
   "source": [
    "# Print a classification report\n",
    "print(classification_report(y_test, y_pred))"
   ]
  },
  {
   "cell_type": "markdown",
   "id": "805df7e6",
   "metadata": {},
   "source": [
    "## Your Turn!"
   ]
  },
  {
   "cell_type": "markdown",
   "id": "ef1e078f",
   "metadata": {},
   "source": [
    "Experiment with the above code and:\n",
    "\n",
    "1.  Change `n_neighbors` and observe how the accuracy of the classifier changes.\n",
    "\n",
    "2.  Change the `decision threshold` and observe how the accuracy of the classifier changes."
   ]
  }
 ],
 "metadata": {
  "kernelspec": {
   "display_name": "prodok",
   "language": "python",
   "name": "python3"
  },
  "language_info": {
   "codemirror_mode": {
    "name": "ipython",
    "version": 3
   },
   "file_extension": ".py",
   "mimetype": "text/x-python",
   "name": "python",
   "nbconvert_exporter": "python",
   "pygments_lexer": "ipython3",
   "version": "3.12.1"
  }
 },
 "nbformat": 4,
 "nbformat_minor": 5
}
